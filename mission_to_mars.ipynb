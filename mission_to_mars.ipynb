{
 "cells": [
  {
   "cell_type": "code",
   "execution_count": 3,
   "metadata": {},
   "outputs": [
    {
     "name": "stdout",
     "output_type": "stream",
     "text": [
      "Requirement already satisfied: splinter in c:\\users\\meebe\\anaconda3\\lib\\site-packages (0.14.0)\n",
      "Requirement already satisfied: six in c:\\users\\meebe\\anaconda3\\lib\\site-packages (from splinter) (1.15.0)\n",
      "Requirement already satisfied: selenium>=3.141.0 in c:\\users\\meebe\\anaconda3\\lib\\site-packages (from splinter) (3.141.0)\n",
      "Requirement already satisfied: urllib3 in c:\\users\\meebe\\anaconda3\\lib\\site-packages (from selenium>=3.141.0->splinter) (1.25.11)\n"
     ]
    }
   ],
   "source": [
    "!pip install splinter\n",
    "import pandas as pd\n",
    "from splinter import Browser\n",
    "from bs4 import BeautifulSoup as soup\n",
    "import time "
   ]
  },
  {
   "cell_type": "code",
   "execution_count": 27,
   "metadata": {},
   "outputs": [],
   "source": [
    "#execute the path for chrome driver, create a browser \n",
    "#\n",
    "executable_path={'executable_path': 'chromedriver.exe'}\n",
    "#passing the word chrome to a browser\n",
    "#setting upi splioner to run (i.e. headless)\n",
    "browser=Browser('chrome',**executable_path,headless=False)"
   ]
  },
  {
   "cell_type": "code",
   "execution_count": 28,
   "metadata": {},
   "outputs": [
    {
     "name": "stdout",
     "output_type": "stream",
     "text": [
      "MOXIE Could Help Future Rockets Launch Off Mars\n"
     ]
    }
   ],
   "source": [
    "#set the url\n",
    "url='https://mars.nasa.gov/news/?page=0&per_page=40&order=publish_date+desc%2Ccreated_at+desc&search=&category=19%2C165%2C184%2C204&blank_scope=Latest'\n",
    "browser.visit(url)\n",
    "#it will 2 seconds before it gets it from the page. It waits for page to fully load\n",
    "time.sleep(2)\n",
    "#get html off the page. html is used when we need to get someting from the page\n",
    "html=browser.html\n",
    "nasa_soup=soup(html,'html.parser')\n",
    "title=nasa_soup.find_all('div',class_='content_title')\n",
    "#print(title[1])\n",
    "news_title=title[1].get_text()\n",
    "print(news_title)"
   ]
  },
  {
   "cell_type": "code",
   "execution_count": 29,
   "metadata": {},
   "outputs": [
    {
     "name": "stdout",
     "output_type": "stream",
     "text": [
      "NASA's Perseverance rover carries a device to convert Martian air into oxygen that, if produced on a larger scale, could be used not just for breathing, but also for fuel.\n"
     ]
    }
   ],
   "source": [
    "paragraph=nasa_soup.find_all('div',class_='article_teaser_body')\n",
    "#print(paragraph[0])\n",
    "news_p=paragraph[0].get_text()\n",
    "print(news_p)"
   ]
  },
  {
   "cell_type": "code",
   "execution_count": 30,
   "metadata": {},
   "outputs": [
    {
     "name": "stdout",
     "output_type": "stream",
     "text": [
      "https://www.jpl.nasa.gov/spaceimages/spaceimages/images/largesize/PIA18904_hires.jpg\n"
     ]
    }
   ],
   "source": [
    "url='https://www.jpl.nasa.gov/spaceimages/?search=&category=Mars'\n",
    "browser.visit(url)\n",
    "time.sleep(2)\n",
    "browser.links.find_by_partial_text('FULL IMAGE')[0].click()\n",
    "time.sleep(1)\n",
    "browser.links.find_by_partial_text('more info')[0].click()\n",
    "time.sleep(1)\n",
    "html=browser.html\n",
    "nasa_soup=soup(html,'html.parser')\n",
    "image=nasa_soup.find_all('figure',class_='lede')\n",
    "#print(image[0])\n",
    "image=image[0].find_all('a', href=True)[0]\n",
    "featured_image_url='https://www.jpl.nasa.gov/spaceimages'+image['href']\n",
    "print(featured_image_url)"
   ]
  },
  {
   "cell_type": "code",
   "execution_count": 33,
   "metadata": {},
   "outputs": [
    {
     "name": "stdout",
     "output_type": "stream",
     "text": [
      "                      0                              1\n",
      "0  Equatorial Diameter:                       6,792 km\n",
      "1       Polar Diameter:                       6,752 km\n",
      "2                 Mass:  6.39 × 10^23 kg (0.11 Earths)\n",
      "3                Moons:            2 (Phobos & Deimos)\n",
      "4       Orbit Distance:       227,943,824 km (1.38 AU)\n",
      "5         Orbit Period:           687 days (1.9 years)\n",
      "6  Surface Temperature:                   -87 to -5 °C\n",
      "7         First Record:              2nd millennium BC\n",
      "8          Recorded By:           Egyptian astronomers\n"
     ]
    }
   ],
   "source": [
    "df=pd.read_html('https://space-facts.com/mars/')\n",
    "print(df[0])"
   ]
  },
  {
   "cell_type": "code",
   "execution_count": 35,
   "metadata": {},
   "outputs": [
    {
     "data": {
      "text/plain": [
       "'<table border=\"1\" class=\"dataframe\">\\n  <thead>\\n    <tr style=\"text-align: right;\">\\n      <th></th>\\n      <th>0</th>\\n      <th>1</th>\\n    </tr>\\n  </thead>\\n  <tbody>\\n    <tr>\\n      <th>0</th>\\n      <td>Equatorial Diameter:</td>\\n      <td>6,792 km</td>\\n    </tr>\\n    <tr>\\n      <th>1</th>\\n      <td>Polar Diameter:</td>\\n      <td>6,752 km</td>\\n    </tr>\\n    <tr>\\n      <th>2</th>\\n      <td>Mass:</td>\\n      <td>6.39 × 10^23 kg (0.11 Earths)</td>\\n    </tr>\\n    <tr>\\n      <th>3</th>\\n      <td>Moons:</td>\\n      <td>2 (Phobos &amp; Deimos)</td>\\n    </tr>\\n    <tr>\\n      <th>4</th>\\n      <td>Orbit Distance:</td>\\n      <td>227,943,824 km (1.38 AU)</td>\\n    </tr>\\n    <tr>\\n      <th>5</th>\\n      <td>Orbit Period:</td>\\n      <td>687 days (1.9 years)</td>\\n    </tr>\\n    <tr>\\n      <th>6</th>\\n      <td>Surface Temperature:</td>\\n      <td>-87 to -5 °C</td>\\n    </tr>\\n    <tr>\\n      <th>7</th>\\n      <td>First Record:</td>\\n      <td>2nd millennium BC</td>\\n    </tr>\\n    <tr>\\n      <th>8</th>\\n      <td>Recorded By:</td>\\n      <td>Egyptian astronomers</td>\\n    </tr>\\n  </tbody>\\n</table>'"
      ]
     },
     "execution_count": 35,
     "metadata": {},
     "output_type": "execute_result"
    }
   ],
   "source": [
    "df[0].to_html()"
   ]
  },
  {
   "cell_type": "code",
   "execution_count": 42,
   "metadata": {},
   "outputs": [
    {
     "name": "stdout",
     "output_type": "stream",
     "text": [
      "[{'img_url': 'https://astropedia.astrogeology.usgs.gov/download/Mars/Viking/cerberus_enhanced.tif/full.jpg', 'title': 'Cerberus Hemisphere Enhanced'}, {'img_url': 'https://astropedia.astrogeology.usgs.gov/download/Mars/Viking/schiaparelli_enhanced.tif/full.jpg', 'title': 'Schiaparelli Hemisphere Enhanced'}, {'img_url': 'https://astropedia.astrogeology.usgs.gov/download/Mars/Viking/syrtis_major_enhanced.tif/full.jpg', 'title': 'Syrtis Major Hemisphere Enhanced'}, {'img_url': 'https://astropedia.astrogeology.usgs.gov/download/Mars/Viking/valles_marineris_enhanced.tif/full.jpg', 'title': 'Valles Marineris Hemisphere Enhanced'}]\n"
     ]
    }
   ],
   "source": [
    "#create a list (all four omages in a list)\n",
    "hemisphere_image_urls=[]\n",
    "url='https://astrogeology.usgs.gov/search/results?q=hemisphere+enhanced&k1=target&v1=Mars'\n",
    "browser.visit(url)\n",
    "browser.links.find_by_partial_text('Hemisphere Enhanced')[0].click()\n",
    "time.sleep(1)\n",
    "html=browser.html\n",
    "nasa_soup=soup(html,'html.parser')\n",
    "image=nasa_soup.find_all('div',class_='downloads')\n",
    "#print(image[0])\n",
    "image=image[0].find_all('a', href=True)[0]\n",
    "hemisphere={}\n",
    "img_url=image['href']\n",
    "hemisphere['img_url']=img_url\n",
    "title=nasa_soup.find_all('h2',class_='title')\n",
    "hemisphere['title']=title[0].get_text()\n",
    "hemisphere_image_urls.append(hemisphere)\n",
    "browser.back()\n",
    "\n",
    "browser.links.find_by_partial_text('Hemisphere Enhanced')[1].click()\n",
    "time.sleep(1)\n",
    "html=browser.html\n",
    "nasa_soup=soup(html,'html.parser')\n",
    "image=nasa_soup.find_all('div',class_='downloads')\n",
    "#print(image[0])\n",
    "image=image[0].find_all('a', href=True)[0]\n",
    "hemisphere={}\n",
    "img_url=image['href']\n",
    "hemisphere['img_url']=img_url\n",
    "title=nasa_soup.find_all('h2',class_='title')\n",
    "hemisphere['title']=title[0].get_text()\n",
    "hemisphere_image_urls.append(hemisphere)\n",
    "browser.back()\n",
    "\n",
    "browser.links.find_by_partial_text('Hemisphere Enhanced')[2].click()\n",
    "time.sleep(1)\n",
    "html=browser.html\n",
    "nasa_soup=soup(html,'html.parser')\n",
    "image=nasa_soup.find_all('div',class_='downloads')\n",
    "#print(image[0])\n",
    "image=image[0].find_all('a', href=True)[0]\n",
    "hemisphere={}\n",
    "img_url=image['href']\n",
    "hemisphere['img_url']=img_url\n",
    "title=nasa_soup.find_all('h2',class_='title')\n",
    "hemisphere['title']=title[0].get_text()\n",
    "hemisphere_image_urls.append(hemisphere)\n",
    "browser.back()\n",
    "\n",
    "browser.links.find_by_partial_text('Hemisphere Enhanced')[3].click()\n",
    "time.sleep(1)\n",
    "html=browser.html\n",
    "nasa_soup=soup(html,'html.parser')\n",
    "image=nasa_soup.find_all('div',class_='downloads')\n",
    "#print(image[0])\n",
    "image=image[0].find_all('a', href=True)[0]\n",
    "hemisphere={}\n",
    "img_url=image['href']\n",
    "hemisphere['img_url']=img_url\n",
    "title=nasa_soup.find_all('h2',class_='title')\n",
    "hemisphere['title']=title[0].get_text()\n",
    "hemisphere_image_urls.append(hemisphere)\n",
    "browser.back()\n",
    "print(hemisphere_image_urls)\n"
   ]
  }
 ],
 "metadata": {
  "kernelspec": {
   "display_name": "Python 3",
   "language": "python",
   "name": "python3"
  },
  "language_info": {
   "codemirror_mode": {
    "name": "ipython",
    "version": 3
   },
   "file_extension": ".py",
   "mimetype": "text/x-python",
   "name": "python",
   "nbconvert_exporter": "python",
   "pygments_lexer": "ipython3",
   "version": "3.8.5"
  }
 },
 "nbformat": 4,
 "nbformat_minor": 4
}
